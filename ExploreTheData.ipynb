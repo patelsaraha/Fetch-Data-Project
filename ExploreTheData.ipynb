{
  "nbformat": 4,
  "nbformat_minor": 0,
  "metadata": {
    "colab": {
      "provenance": [],
      "authorship_tag": "ABX9TyMUDB30sH242zldon5gPTqP",
      "include_colab_link": true
    },
    "kernelspec": {
      "name": "python3",
      "display_name": "Python 3"
    },
    "language_info": {
      "name": "python"
    }
  },
  "cells": [
    {
      "cell_type": "markdown",
      "metadata": {
        "id": "view-in-github",
        "colab_type": "text"
      },
      "source": [
        "<a href=\"https://colab.research.google.com/github/patelsaraha/Fetch-Data-Project/blob/main/ExploreTheData.ipynb\" target=\"_parent\"><img src=\"https://colab.research.google.com/assets/colab-badge.svg\" alt=\"Open In Colab\"/></a>"
      ]
    },
    {
      "cell_type": "code",
      "execution_count": 3,
      "metadata": {
        "colab": {
          "base_uri": "https://localhost:8080/"
        },
        "id": "1oebIt54tkJk",
        "outputId": "b16fa901-d094-4f90-d7bd-6e65c313ca86"
      },
      "outputs": [
        {
          "output_type": "stream",
          "name": "stdout",
          "text": [
            "<class 'pandas.core.frame.DataFrame'>\n",
            "RangeIndex: 100000 entries, 0 to 99999\n",
            "Data columns (total 6 columns):\n",
            " #   Column        Non-Null Count   Dtype \n",
            "---  ------        --------------   ----- \n",
            " 0   ID            100000 non-null  object\n",
            " 1   CREATED_DATE  100000 non-null  object\n",
            " 2   BIRTH_DATE    96325 non-null   object\n",
            " 3   STATE         95188 non-null   object\n",
            " 4   LANGUAGE      69492 non-null   object\n",
            " 5   GENDER        94108 non-null   object\n",
            "dtypes: object(6)\n",
            "memory usage: 4.6+ MB\n",
            "<class 'pandas.core.frame.DataFrame'>\n",
            "RangeIndex: 50000 entries, 0 to 49999\n",
            "Data columns (total 8 columns):\n",
            " #   Column          Non-Null Count  Dtype  \n",
            "---  ------          --------------  -----  \n",
            " 0   RECEIPT_ID      50000 non-null  object \n",
            " 1   PURCHASE_DATE   50000 non-null  object \n",
            " 2   SCAN_DATE       50000 non-null  object \n",
            " 3   STORE_NAME      50000 non-null  object \n",
            " 4   USER_ID         50000 non-null  object \n",
            " 5   BARCODE         44238 non-null  float64\n",
            " 6   FINAL_QUANTITY  50000 non-null  object \n",
            " 7   FINAL_SALE      50000 non-null  object \n",
            "dtypes: float64(1), object(7)\n",
            "memory usage: 3.1+ MB\n",
            "<class 'pandas.core.frame.DataFrame'>\n",
            "RangeIndex: 412488 entries, 0 to 412487\n",
            "Data columns (total 7 columns):\n",
            " #   Column        Non-Null Count   Dtype  \n",
            "---  ------        --------------   -----  \n",
            " 0   CATEGORY_1    412431 non-null  object \n",
            " 1   CATEGORY_2    411797 non-null  object \n",
            " 2   CATEGORY_3    383000 non-null  object \n",
            " 3   CATEGORY_4    32869 non-null   object \n",
            " 4   MANUFACTURER  302124 non-null  object \n",
            " 5   BRAND         302126 non-null  object \n",
            " 6   BARCODE       410558 non-null  float64\n",
            "dtypes: float64(1), object(6)\n",
            "memory usage: 22.0+ MB\n"
          ]
        },
        {
          "output_type": "execute_result",
          "data": {
            "text/plain": [
              "(None, None, None)"
            ]
          },
          "metadata": {},
          "execution_count": 3
        }
      ],
      "source": [
        "import pandas as pd\n",
        "\n",
        "# File paths\n",
        "user_file = \"/content/USER_TAKEHOME.csv\"\n",
        "transaction_file = \"/content/TRANSACTION_TAKEHOME.csv\"\n",
        "product_file = \"/content/PRODUCTS_TAKEHOME.csv\"\n",
        "\n",
        "# Load data\n",
        "df_users = pd.read_csv(user_file)\n",
        "df_transactions = pd.read_csv(transaction_file)\n",
        "df_products = pd.read_csv(product_file)\n",
        "\n",
        "# Display basic info about each dataset\n",
        "df_users.info(), df_transactions.info(), df_products.info()"
      ]
    },
    {
      "cell_type": "code",
      "source": [
        "# Check for duplicate records in each dataset\n",
        "duplicate_users = df_users.duplicated().sum()\n",
        "duplicate_transactions = df_transactions.duplicated().sum()\n",
        "duplicate_products = df_products.duplicated().sum()\n",
        "\n",
        "# Check unique values for key fields\n",
        "unique_users = df_users[\"ID\"].nunique()\n",
        "unique_transactions = df_transactions[\"RECEIPT_ID\"].nunique()\n",
        "unique_products = df_products[\"BARCODE\"].nunique()\n",
        "\n",
        "# Check for inconsistencies in barcode data (e.g., non-null in transactions but missing in products)\n",
        "barcode_mismatch = df_transactions[\"BARCODE\"].dropna().nunique() - df_products[\"BARCODE\"].dropna().nunique()\n",
        "\n",
        "duplicate_users, duplicate_transactions, duplicate_products, unique_users, unique_transactions, unique_products, barcode_mismatch\n"
      ],
      "metadata": {
        "colab": {
          "base_uri": "https://localhost:8080/"
        },
        "id": "QVbuqj9CwCNO",
        "outputId": "26d54e51-905c-4046-fa80-bb724dea8837"
      },
      "execution_count": 4,
      "outputs": [
        {
          "output_type": "execute_result",
          "data": {
            "text/plain": [
              "(0, 171, 57, 100000, 24440, 410517, -399490)"
            ]
          },
          "metadata": {},
          "execution_count": 4
        }
      ]
    },
    {
      "cell_type": "code",
      "source": [
        "# Convert date columns to datetime format\n",
        "df_users[\"CREATED_DATE\"] = pd.to_datetime(df_users[\"CREATED_DATE\"], errors=\"coerce\")\n",
        "df_users[\"BIRTH_DATE\"] = pd.to_datetime(df_users[\"BIRTH_DATE\"], errors=\"coerce\")\n",
        "\n",
        "df_transactions[\"PURCHASE_DATE\"] = pd.to_datetime(df_transactions[\"PURCHASE_DATE\"], errors=\"coerce\")\n",
        "df_transactions[\"SCAN_DATE\"] = pd.to_datetime(df_transactions[\"SCAN_DATE\"], errors=\"coerce\")\n",
        "\n",
        "# Convert numerical fields to appropriate types\n",
        "df_transactions[\"FINAL_QUANTITY\"] = pd.to_numeric(df_transactions[\"FINAL_QUANTITY\"], errors=\"coerce\")\n",
        "df_transactions[\"FINAL_SALE\"] = pd.to_numeric(df_transactions[\"FINAL_SALE\"], errors=\"coerce\")\n",
        "\n",
        "# Convert barcode to string for consistency\n",
        "df_transactions[\"BARCODE\"] = df_transactions[\"BARCODE\"].astype(str)\n",
        "df_products[\"BARCODE\"] = df_products[\"BARCODE\"].astype(str)\n",
        "\n",
        "# Drop duplicates\n",
        "df_transactions = df_transactions.drop_duplicates()\n",
        "df_products = df_products.drop_duplicates()\n",
        "\n",
        "# Check final dataset info after cleanup\n",
        "df_users.info(), df_transactions.info(), df_products.info()\n"
      ],
      "metadata": {
        "id": "PCkYAbhcgNn3",
        "outputId": "8d575fc9-de85-44f1-e4a4-3ed344e8d4f0",
        "colab": {
          "base_uri": "https://localhost:8080/"
        }
      },
      "execution_count": 5,
      "outputs": [
        {
          "output_type": "stream",
          "name": "stdout",
          "text": [
            "<class 'pandas.core.frame.DataFrame'>\n",
            "RangeIndex: 100000 entries, 0 to 99999\n",
            "Data columns (total 6 columns):\n",
            " #   Column        Non-Null Count   Dtype              \n",
            "---  ------        --------------   -----              \n",
            " 0   ID            100000 non-null  object             \n",
            " 1   CREATED_DATE  100000 non-null  datetime64[ns, UTC]\n",
            " 2   BIRTH_DATE    96325 non-null   datetime64[ns, UTC]\n",
            " 3   STATE         95188 non-null   object             \n",
            " 4   LANGUAGE      69492 non-null   object             \n",
            " 5   GENDER        94108 non-null   object             \n",
            "dtypes: datetime64[ns, UTC](2), object(4)\n",
            "memory usage: 4.6+ MB\n",
            "<class 'pandas.core.frame.DataFrame'>\n",
            "Index: 49829 entries, 0 to 49999\n",
            "Data columns (total 8 columns):\n",
            " #   Column          Non-Null Count  Dtype              \n",
            "---  ------          --------------  -----              \n",
            " 0   RECEIPT_ID      49829 non-null  object             \n",
            " 1   PURCHASE_DATE   49829 non-null  datetime64[ns]     \n",
            " 2   SCAN_DATE       49829 non-null  datetime64[ns, UTC]\n",
            " 3   STORE_NAME      49829 non-null  object             \n",
            " 4   USER_ID         49829 non-null  object             \n",
            " 5   BARCODE         49829 non-null  object             \n",
            " 6   FINAL_QUANTITY  37338 non-null  float64            \n",
            " 7   FINAL_SALE      37343 non-null  float64            \n",
            "dtypes: datetime64[ns, UTC](1), datetime64[ns](1), float64(2), object(4)\n",
            "memory usage: 3.4+ MB\n",
            "<class 'pandas.core.frame.DataFrame'>\n",
            "Index: 412431 entries, 0 to 412487\n",
            "Data columns (total 7 columns):\n",
            " #   Column        Non-Null Count   Dtype \n",
            "---  ------        --------------   ----- \n",
            " 0   CATEGORY_1    412374 non-null  object\n",
            " 1   CATEGORY_2    411741 non-null  object\n",
            " 2   CATEGORY_3    382945 non-null  object\n",
            " 3   CATEGORY_4    32866 non-null   object\n",
            " 4   MANUFACTURER  302069 non-null  object\n",
            " 5   BRAND         302071 non-null  object\n",
            " 6   BARCODE       412431 non-null  object\n",
            "dtypes: object(7)\n",
            "memory usage: 25.2+ MB\n"
          ]
        },
        {
          "output_type": "execute_result",
          "data": {
            "text/plain": [
              "(None, None, None)"
            ]
          },
          "metadata": {},
          "execution_count": 5
        }
      ]
    },
    {
      "cell_type": "code",
      "source": [
        "from datetime import datetime\n",
        "\n",
        "# Calculate user ages\n",
        "current_year = datetime.now().year\n",
        "df_users[\"AGE\"] = current_year - df_users[\"BIRTH_DATE\"].dt.year\n",
        "\n",
        "# Filter users 21 and over\n",
        "df_users_21_plus = df_users[df_users[\"AGE\"] >= 21]\n",
        "\n",
        "# Join transactions with users and products\n",
        "df_merged = df_transactions.merge(df_users_21_plus, left_on=\"USER_ID\", right_on=\"ID\", how=\"inner\")\n",
        "df_merged = df_merged.merge(df_products, on=\"BARCODE\", how=\"left\")\n",
        "\n",
        "# Count receipts scanned per brand\n",
        "top_brands = df_merged.groupby(\"BRAND\")[\"RECEIPT_ID\"].nunique().sort_values(ascending=False).head(5)\n",
        "top_brands\n"
      ],
      "metadata": {
        "id": "CnJ4k3szj9QP",
        "colab": {
          "base_uri": "https://localhost:8080/",
          "height": 272
        },
        "outputId": "4a574ed8-ad66-4a04-e90d-fc25322b378e"
      },
      "execution_count": 6,
      "outputs": [
        {
          "output_type": "execute_result",
          "data": {
            "text/plain": [
              "BRAND\n",
              "NERDS CANDY                      13\n",
              "SPEED STICK                      12\n",
              "TOSTITOS                         12\n",
              "ENTENMANN'S SWEET BAKED GOODS    12\n",
              "COCA-COLA                        12\n",
              "Name: RECEIPT_ID, dtype: int64"
            ],
            "text/html": [
              "<div>\n",
              "<style scoped>\n",
              "    .dataframe tbody tr th:only-of-type {\n",
              "        vertical-align: middle;\n",
              "    }\n",
              "\n",
              "    .dataframe tbody tr th {\n",
              "        vertical-align: top;\n",
              "    }\n",
              "\n",
              "    .dataframe thead th {\n",
              "        text-align: right;\n",
              "    }\n",
              "</style>\n",
              "<table border=\"1\" class=\"dataframe\">\n",
              "  <thead>\n",
              "    <tr style=\"text-align: right;\">\n",
              "      <th></th>\n",
              "      <th>RECEIPT_ID</th>\n",
              "    </tr>\n",
              "    <tr>\n",
              "      <th>BRAND</th>\n",
              "      <th></th>\n",
              "    </tr>\n",
              "  </thead>\n",
              "  <tbody>\n",
              "    <tr>\n",
              "      <th>NERDS CANDY</th>\n",
              "      <td>13</td>\n",
              "    </tr>\n",
              "    <tr>\n",
              "      <th>SPEED STICK</th>\n",
              "      <td>12</td>\n",
              "    </tr>\n",
              "    <tr>\n",
              "      <th>TOSTITOS</th>\n",
              "      <td>12</td>\n",
              "    </tr>\n",
              "    <tr>\n",
              "      <th>ENTENMANN'S SWEET BAKED GOODS</th>\n",
              "      <td>12</td>\n",
              "    </tr>\n",
              "    <tr>\n",
              "      <th>COCA-COLA</th>\n",
              "      <td>12</td>\n",
              "    </tr>\n",
              "  </tbody>\n",
              "</table>\n",
              "</div><br><label><b>dtype:</b> int64</label>"
            ]
          },
          "metadata": {},
          "execution_count": 6
        }
      ]
    },
    {
      "cell_type": "code",
      "source": [
        "from datetime import datetime\n",
        "import pandas as pd\n",
        "\n",
        "# Load data\n",
        "df_users = pd.read_csv(\"USER_TAKEHOME.csv\")\n",
        "df_transactions = pd.read_csv(\"TRANSACTION_TAKEHOME.csv\")\n",
        "df_products = pd.read_csv(\"PRODUCTS_TAKEHOME.csv\")\n",
        "\n",
        "# Convert date columns\n",
        "df_users[\"BIRTH_DATE\"] = pd.to_datetime(df_users[\"BIRTH_DATE\"], errors=\"coerce\")\n",
        "\n",
        "# Calculate user ages\n",
        "current_year = datetime.now().year\n",
        "df_users[\"AGE\"] = current_year - df_users[\"BIRTH_DATE\"].dt.year\n",
        "\n",
        "# Filter users 21 and over\n",
        "df_users_21_plus = df_users[df_users[\"AGE\"] >= 21]\n",
        "\n",
        "# Convert barcode to string for consistency\n",
        "df_transactions[\"BARCODE\"] = df_transactions[\"BARCODE\"].astype(str)\n",
        "df_products[\"BARCODE\"] = df_products[\"BARCODE\"].astype(str)\n",
        "\n",
        "# Join transactions with users and products\n",
        "df_merged = df_transactions.merge(df_users_21_plus, left_on=\"USER_ID\", right_on=\"ID\", how=\"inner\")\n",
        "df_merged = df_merged.merge(df_products, on=\"BARCODE\", how=\"left\")\n",
        "\n",
        "# Count receipts scanned per brand\n",
        "top_brands = df_merged.groupby(\"BRAND\")[\"RECEIPT_ID\"].nunique().sort_values(ascending=False).head(5)\n",
        "print(top_brands)\n"
      ],
      "metadata": {
        "colab": {
          "base_uri": "https://localhost:8080/"
        },
        "id": "tjJ0SubylLHG",
        "outputId": "dbdeeb94-920b-49b0-9031-e97bdcd154c2"
      },
      "execution_count": 7,
      "outputs": [
        {
          "output_type": "stream",
          "name": "stdout",
          "text": [
            "BRAND\n",
            "NERDS CANDY        14\n",
            "DOVE               14\n",
            "COCA-COLA          13\n",
            "SOUR PATCH KIDS    13\n",
            "HERSHEY'S          13\n",
            "Name: RECEIPT_ID, dtype: int64\n"
          ]
        }
      ]
    }
  ]
}